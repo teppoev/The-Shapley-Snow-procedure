{
 "cells": [
  {
   "cell_type": "markdown",
   "id": "64144227",
   "metadata": {},
   "source": [
    "Этот ноутбук содержит реализацию метода Шепли-Сноу для некоторых задач из области игр поиска.\n",
    "\n",
    "Метод Шепли-Сноу используется для нахождения оптимальных стратегий и значения игры в прямоугольных играх (антагонистических играх размера $n \\times m$). Поскольку рассматриваемые игры поиска как раз относятся к играм такого типа, данный метод подходит здесь идеально."
   ]
  },
  {
   "cell_type": "markdown",
   "id": "5acd1e22",
   "metadata": {},
   "source": [
    "Задача, решённая в данном ноутбуке, может быть сформулирована следующим образом.\n",
    "\n",
    "Пусть у нас есть два игрока — $H$ и $S$, один объект и $n$ ячеек, куда этот объект можно положить. Игрок $H$ прячет этот объект в одну из $n$ ячеек, а игрок $S$ пытается за $m$ попыток его найти. Вероятность найти объект в ячейке, если он там содержится, не 100%-ая и зависит от ячейки, в которой объект спрятан. Игрок $S$ может смотреть в одну и ту же ячейку дважды.\n",
    "\n",
    "Цель игрока $H$ — спрятать объект в такую ячейку, чтобы вероятность обнаружения объекта игроком $S$ была минимальна.\n",
    "\n",
    "Цель игрока $S$ — найти объект или максимально (с точки зрения вероятности обнаружения) приблизиться к этому."
   ]
  },
  {
   "cell_type": "markdown",
   "id": "eb16497e",
   "metadata": {},
   "source": [
    "Данная игра, как и любая матричная игра, может быть представлена в виде матрицы игры — таблицы, где строки отвечают за стратегии одного игрока ($S$ в данном случае), а столбцы — за стратегии другого игрока (соответственно, $H$).\n",
    "\n",
    "На пересечении $i$-ой строки и $j$-ого столбца, в ячейке $(i, j)$ матрицы игры, находится выигрыш (проигрыш) игрока $S$ (игрока $H$) — вероятность того, что игрок $S$ найдёт объект в данной ячейке."
   ]
  },
  {
   "cell_type": "markdown",
   "id": "19fc9a54",
   "metadata": {},
   "source": [
    "Ниже находится необходимые для работы данного ноутбука технические детали — импорты, реализация необходимых функций (построение матрицы игры, сам метод Шепли-Сноу и пр.). После этого будет представлен относительно дружелюбный интерфейс для взаимодействия с ноутбуком, где пользователю будет предложено ввести необходимые входные параметры, после чего он получит результат — матрицу игры, оптимальные стратегии и значение игры для данного входа."
   ]
  },
  {
   "cell_type": "markdown",
   "id": "841bc6b6",
   "metadata": {},
   "source": [
    "Наконец отметим, что если алгоритм вывел несколько пар оптимальных стратегий, то их следует воспринимать как крайние точки симплекса, все значения которого являются парами оптимальных стратегий."
   ]
  },
  {
   "cell_type": "markdown",
   "id": "b2eed7b3",
   "metadata": {},
   "source": [
    "Необходимые импорты:"
   ]
  },
  {
   "cell_type": "code",
   "execution_count": 1,
   "id": "2adc87a7",
   "metadata": {},
   "outputs": [],
   "source": [
    "import numpy as np\n",
    "import math\n",
    "import itertools\n",
    "import pandas as pd\n",
    "from ipywidgets import IntProgress\n",
    "from IPython.display import display\n",
    "import time"
   ]
  },
  {
   "cell_type": "markdown",
   "id": "3ec203b3",
   "metadata": {},
   "source": [
    "Используемые функции:"
   ]
  },
  {
   "cell_type": "code",
   "execution_count": 2,
   "id": "3d29d16f",
   "metadata": {},
   "outputs": [],
   "source": [
    "# finding nonnegative integers p1, p2, ..., pn such that p1 + p2 + ... + pn = m\n",
    "# m should be a nonnegative integer\n",
    "# n should be a positive integer\n",
    "# remainder should ALWAYS be empty list (except for internal recursive function calls)\n",
    "# return all possible composition of m into n parts\n",
    "def composition(m, n, remainder = []):\n",
    "    if n < 1:\n",
    "        raise ValueError(\"n must be positive integer!\")\n",
    "    elif n == 1:\n",
    "        return [remainder + [m]]\n",
    "    else:\n",
    "        answer = []\n",
    "        for i in range(m, -1, -1):\n",
    "            answer += composition(m-i, n-1, remainder+[i])\n",
    "    return answer"
   ]
  },
  {
   "cell_type": "code",
   "execution_count": 3,
   "id": "33c980fd",
   "metadata": {},
   "outputs": [],
   "source": [
    "def get_game_matrix(n, m, p, eps=1e-6):\n",
    "    if not isinstance(n, int) or n < 1:\n",
    "        raise ValueError(\"n must be positive integer!\")\n",
    "    if not isinstance(m, int) or m < 1:\n",
    "        raise ValueError(\"m must be positive integer!\")\n",
    "    if len(p) != n:\n",
    "        raise ValueError(\"Size of p must be equal to n!\")\n",
    "    for i in range(n):\n",
    "        if p[i] < eps or p[i] > 1 - eps:\n",
    "            raise ValueError(\"Probability must be between 0 and 1 (ends are not included)!\")\n",
    "    X = np.tile(np.array(p), (math.comb(m+n-1, m), 1))\n",
    "\n",
    "    searchings = composition(m, n, [])\n",
    "\n",
    "    if X.shape[0] != len(searchings) or X.shape[1] != len(searchings[0]):\n",
    "        raise ValueError(\"Something went wrong: Matrix of game and Searchings matrix have\"\n",
    "                         \"different shapes!\")\n",
    "\n",
    "    #new probabilities in a cell by number of searchings there \n",
    "    prob_by_searchings = np.tile(np.array(p).reshape(-1, 1), (1, m))\n",
    "    for j in range(1, m):\n",
    "        for i in range(len(p)):\n",
    "            prob_by_searchings[i][j] = (prob_by_searchings[i][j - 1] + prob_by_searchings[i][0]\n",
    "                                        * (1 - prob_by_searchings[i][0]) ** j)\n",
    "\n",
    "    for i in range(X.shape[0]):\n",
    "        for j in range(X.shape[1]):\n",
    "            X[i][j] = prob_by_searchings[j][searchings[i][j] - 1] if searchings[i][j] > 0 else 0\n",
    "    return X, searchings"
   ]
  },
  {
   "cell_type": "code",
   "execution_count": 24,
   "id": "dc646c25",
   "metadata": {},
   "outputs": [],
   "source": [
    "def adjoint(matrix, det):\n",
    "    if det != 0:\n",
    "        return np.linalg.inv(matrix) * det\n",
    "    else:\n",
    "        C = np.zeros(matrix.shape)\n",
    "        nrows, ncols = C.shape\n",
    "        for row in range(nrows):\n",
    "            for col in range(ncols):\n",
    "                minor = np.delete(np.delete(matrix, row, 0), col, 1)\n",
    "                C[row][col] = (-1)**(row+col) * np.linalg.det(minor)\n",
    "        return C"
   ]
  },
  {
   "cell_type": "code",
   "execution_count": 19,
   "id": "ac8cfd59",
   "metadata": {},
   "outputs": [],
   "source": [
    "def find_equilibrium(X, detailed_feedback=False, eps=1e-6):\n",
    "    total_counter = 0\n",
    "    answer_strategies = []\n",
    "    answer_value = None\n",
    "    \n",
    "    min_size = min(X.shape[0], X.shape[1]) + 1\n",
    "    max_value = 0\n",
    "    for i in range(1, min_size):\n",
    "        max_value += math.comb(X.shape[0], i) * math.comb(X.shape[1], i)\n",
    "    f = IntProgress(min=1, max=max_value) # instantiate the bar\n",
    "    display(f)\n",
    "    \n",
    "    for i in range(1, min_size):\n",
    "        for a in list(itertools.combinations(range(X.shape[0]), i)):\n",
    "            for b in list(itertools.combinations(range(X.shape[1]), i)):\n",
    "                try:\n",
    "                    total_counter += 1\n",
    "                    f.value += 1 # signal to increment the progress bar\n",
    "                    # time.sleep(.1)\n",
    "                    B = X[np.ix_(a,b)]\n",
    "                    \n",
    "                    if detailed_feedback:\n",
    "                        print(f\"Case #{total_counter}\")\n",
    "                        print(f\"Square submatrix for rows {a} and cols {b}:\")\n",
    "                        print(B)\n",
    "                    \n",
    "                    J = np.ones((1, i))\n",
    "                    detB = np.linalg.det(B)\n",
    "                    adjB = adjoint(B, detB)\n",
    "                    xnom = J.dot(adjB)\n",
    "                    denom = xnom.dot(J.transpose())[0][0]\n",
    "                    if abs(denom) < eps:\n",
    "                        raise Exception(\"Denominator is zero!\")\n",
    "                    ynom = J.dot(adjB.transpose())\n",
    "                    x = np.zeros(X.shape[0])\n",
    "                    x[np.ix_(a)] = xnom / denom\n",
    "                    y = np.zeros(X.shape[1])\n",
    "                    y[np.ix_(b)] = ynom / denom\n",
    "                    v = detB / denom\n",
    "                    if np.any((x < -eps)) or np.any((y < -eps)):\n",
    "                        raise Exception(\"Some of probabilities are negative!\")\n",
    "                    for j in range(X.shape[1]):\n",
    "                        expectation = 0\n",
    "                        for k in range(len(x)):\n",
    "                            expectation += x[k] * X[k][j]\n",
    "                        if (expectation > v + eps and y[j] > eps or expectation < v - eps or\n",
    "                                y[j] > eps and abs(expectation - v) > eps):\n",
    "                            raise Exception(\"Check failed!\")\n",
    "                    for k in range(X.shape[0]):\n",
    "                        expectation = 0\n",
    "                        for j in range(len(y)):\n",
    "                            expectation += y[j] * X[k][j]\n",
    "                        if (expectation < v - eps and x[k] > eps or expectation > v + eps or\n",
    "                                x[k] > eps and abs(expectation - v) > eps):\n",
    "                            raise Exception(\"Check failed!\")\n",
    "                    \n",
    "                    if detailed_feedback:\n",
    "                        print(f\"Successful! Optimal strategies were found!\")\n",
    "                        print(f\"x = {[round(k, 5) for k in x]}\")\n",
    "                        print(f\"y = {[round(k, 5) for k in y]}\")\n",
    "                        print(f\"v = {round(v, 5)}\")\n",
    "                        print()\n",
    "                        \n",
    "                    if not answer_value:\n",
    "                        answer_value = v\n",
    "                    elif abs(answer_value - v) > eps:\n",
    "                        raise RuntimeError(\"Game values are different for different pair of\"\n",
    "                                           \"strategies!\")\n",
    "                    answer_strategies.append((x, y))\n",
    "                except Exception as e:\n",
    "                    if detailed_feedback:\n",
    "                        print(e)\n",
    "                        print()\n",
    "        \n",
    "    return answer_value, answer_strategies"
   ]
  },
  {
   "cell_type": "code",
   "execution_count": 14,
   "id": "9d9fb43f",
   "metadata": {},
   "outputs": [],
   "source": [
    "def ordinal(n):\n",
    "    return \"%d%s\" % (n,\"tsnrhtdd\"[(n//10%10!=1)*(n%10<4)*n%10::4])"
   ]
  },
  {
   "cell_type": "code",
   "execution_count": 15,
   "id": "b13f3667",
   "metadata": {},
   "outputs": [],
   "source": [
    "def print_game_matrix(X, rows, columns):\n",
    "    df = pd.DataFrame(X, index=rows, columns=columns)\n",
    "    print(\"Matrix of game:\")\n",
    "    display(df)\n",
    "    print()"
   ]
  },
  {
   "cell_type": "code",
   "execution_count": 30,
   "id": "59ce44db",
   "metadata": {},
   "outputs": [],
   "source": [
    "def print_optimal_strategies(x, y, rows, columns):\n",
    "    dfx = pd.DataFrame(np.array([round(e, 5) for e in x]).reshape(1, -1), columns=rows, index=['x'])\n",
    "    dfy = pd.DataFrame(np.array([round(e, 5) for e in y]).reshape(1, -1), columns=columns, index=['y'])\n",
    "    display(dfx.loc[:, [not (dfx[e] == 0).all() for e in dfx.columns]])\n",
    "    display(dfy.loc[:, [not (dfy[e] == 0).all() for e in dfy.columns]])"
   ]
  },
  {
   "cell_type": "markdown",
   "id": "c611319c",
   "metadata": {},
   "source": [
    "Параметры, используемые в методе:\n",
    "\n",
    "$n$ — количество ячеек всего, $n \\in \\mathbb N$;\n",
    "\n",
    "$m$ — количество ячеек, которые может осмотреть игрок $S$, $m \\in \\mathbb N$;\n",
    "\n",
    "$p = (p_1, ..., p_n)$ — вероятности найти объект в соответствующих ячейках, $p_i \\in (0; 1)$."
   ]
  },
  {
   "cell_type": "markdown",
   "id": "8d343261",
   "metadata": {},
   "source": [
    "Введите входные данные ниже:"
   ]
  },
  {
   "cell_type": "code",
   "execution_count": 21,
   "id": "2c0f2d7c",
   "metadata": {},
   "outputs": [],
   "source": [
    "n = 3\n",
    "m = 5\n",
    "p = [0.2, 0.4, 0.8]"
   ]
  },
  {
   "cell_type": "markdown",
   "id": "e7635b08",
   "metadata": {},
   "source": [
    "Матрица игры, оптимальные стратегии и соответствующее им значение игры:"
   ]
  },
  {
   "cell_type": "code",
   "execution_count": 32,
   "id": "d257f14b",
   "metadata": {},
   "outputs": [
    {
     "name": "stdout",
     "output_type": "stream",
     "text": [
      "Matrix of game:\n"
     ]
    },
    {
     "data": {
      "text/html": [
       "<div>\n",
       "<style scoped>\n",
       "    .dataframe tbody tr th:only-of-type {\n",
       "        vertical-align: middle;\n",
       "    }\n",
       "\n",
       "    .dataframe tbody tr th {\n",
       "        vertical-align: top;\n",
       "    }\n",
       "\n",
       "    .dataframe thead th {\n",
       "        text-align: right;\n",
       "    }\n",
       "</style>\n",
       "<table border=\"1\" class=\"dataframe\">\n",
       "  <thead>\n",
       "    <tr style=\"text-align: right;\">\n",
       "      <th></th>\n",
       "      <th>1st cells</th>\n",
       "      <th>2nd cells</th>\n",
       "      <th>3rd cells</th>\n",
       "    </tr>\n",
       "  </thead>\n",
       "  <tbody>\n",
       "    <tr>\n",
       "      <th>{5, 0, 0} times</th>\n",
       "      <td>0.67232</td>\n",
       "      <td>0.00000</td>\n",
       "      <td>0.00000</td>\n",
       "    </tr>\n",
       "    <tr>\n",
       "      <th>{4, 1, 0} times</th>\n",
       "      <td>0.59040</td>\n",
       "      <td>0.40000</td>\n",
       "      <td>0.00000</td>\n",
       "    </tr>\n",
       "    <tr>\n",
       "      <th>{4, 0, 1} times</th>\n",
       "      <td>0.59040</td>\n",
       "      <td>0.00000</td>\n",
       "      <td>0.80000</td>\n",
       "    </tr>\n",
       "    <tr>\n",
       "      <th>{3, 2, 0} times</th>\n",
       "      <td>0.48800</td>\n",
       "      <td>0.64000</td>\n",
       "      <td>0.00000</td>\n",
       "    </tr>\n",
       "    <tr>\n",
       "      <th>{3, 1, 1} times</th>\n",
       "      <td>0.48800</td>\n",
       "      <td>0.40000</td>\n",
       "      <td>0.80000</td>\n",
       "    </tr>\n",
       "    <tr>\n",
       "      <th>{3, 0, 2} times</th>\n",
       "      <td>0.48800</td>\n",
       "      <td>0.00000</td>\n",
       "      <td>0.96000</td>\n",
       "    </tr>\n",
       "    <tr>\n",
       "      <th>{2, 3, 0} times</th>\n",
       "      <td>0.36000</td>\n",
       "      <td>0.78400</td>\n",
       "      <td>0.00000</td>\n",
       "    </tr>\n",
       "    <tr>\n",
       "      <th>{2, 2, 1} times</th>\n",
       "      <td>0.36000</td>\n",
       "      <td>0.64000</td>\n",
       "      <td>0.80000</td>\n",
       "    </tr>\n",
       "    <tr>\n",
       "      <th>{2, 1, 2} times</th>\n",
       "      <td>0.36000</td>\n",
       "      <td>0.40000</td>\n",
       "      <td>0.96000</td>\n",
       "    </tr>\n",
       "    <tr>\n",
       "      <th>{2, 0, 3} times</th>\n",
       "      <td>0.36000</td>\n",
       "      <td>0.00000</td>\n",
       "      <td>0.99200</td>\n",
       "    </tr>\n",
       "    <tr>\n",
       "      <th>{1, 4, 0} times</th>\n",
       "      <td>0.20000</td>\n",
       "      <td>0.87040</td>\n",
       "      <td>0.00000</td>\n",
       "    </tr>\n",
       "    <tr>\n",
       "      <th>{1, 3, 1} times</th>\n",
       "      <td>0.20000</td>\n",
       "      <td>0.78400</td>\n",
       "      <td>0.80000</td>\n",
       "    </tr>\n",
       "    <tr>\n",
       "      <th>{1, 2, 2} times</th>\n",
       "      <td>0.20000</td>\n",
       "      <td>0.64000</td>\n",
       "      <td>0.96000</td>\n",
       "    </tr>\n",
       "    <tr>\n",
       "      <th>{1, 1, 3} times</th>\n",
       "      <td>0.20000</td>\n",
       "      <td>0.40000</td>\n",
       "      <td>0.99200</td>\n",
       "    </tr>\n",
       "    <tr>\n",
       "      <th>{1, 0, 4} times</th>\n",
       "      <td>0.20000</td>\n",
       "      <td>0.00000</td>\n",
       "      <td>0.99840</td>\n",
       "    </tr>\n",
       "    <tr>\n",
       "      <th>{0, 5, 0} times</th>\n",
       "      <td>0.00000</td>\n",
       "      <td>0.92224</td>\n",
       "      <td>0.00000</td>\n",
       "    </tr>\n",
       "    <tr>\n",
       "      <th>{0, 4, 1} times</th>\n",
       "      <td>0.00000</td>\n",
       "      <td>0.87040</td>\n",
       "      <td>0.80000</td>\n",
       "    </tr>\n",
       "    <tr>\n",
       "      <th>{0, 3, 2} times</th>\n",
       "      <td>0.00000</td>\n",
       "      <td>0.78400</td>\n",
       "      <td>0.96000</td>\n",
       "    </tr>\n",
       "    <tr>\n",
       "      <th>{0, 2, 3} times</th>\n",
       "      <td>0.00000</td>\n",
       "      <td>0.64000</td>\n",
       "      <td>0.99200</td>\n",
       "    </tr>\n",
       "    <tr>\n",
       "      <th>{0, 1, 4} times</th>\n",
       "      <td>0.00000</td>\n",
       "      <td>0.40000</td>\n",
       "      <td>0.99840</td>\n",
       "    </tr>\n",
       "    <tr>\n",
       "      <th>{0, 0, 5} times</th>\n",
       "      <td>0.00000</td>\n",
       "      <td>0.00000</td>\n",
       "      <td>0.99968</td>\n",
       "    </tr>\n",
       "  </tbody>\n",
       "</table>\n",
       "</div>"
      ],
      "text/plain": [
       "                 1st cells  2nd cells  3rd cells\n",
       "{5, 0, 0} times    0.67232    0.00000    0.00000\n",
       "{4, 1, 0} times    0.59040    0.40000    0.00000\n",
       "{4, 0, 1} times    0.59040    0.00000    0.80000\n",
       "{3, 2, 0} times    0.48800    0.64000    0.00000\n",
       "{3, 1, 1} times    0.48800    0.40000    0.80000\n",
       "{3, 0, 2} times    0.48800    0.00000    0.96000\n",
       "{2, 3, 0} times    0.36000    0.78400    0.00000\n",
       "{2, 2, 1} times    0.36000    0.64000    0.80000\n",
       "{2, 1, 2} times    0.36000    0.40000    0.96000\n",
       "{2, 0, 3} times    0.36000    0.00000    0.99200\n",
       "{1, 4, 0} times    0.20000    0.87040    0.00000\n",
       "{1, 3, 1} times    0.20000    0.78400    0.80000\n",
       "{1, 2, 2} times    0.20000    0.64000    0.96000\n",
       "{1, 1, 3} times    0.20000    0.40000    0.99200\n",
       "{1, 0, 4} times    0.20000    0.00000    0.99840\n",
       "{0, 5, 0} times    0.00000    0.92224    0.00000\n",
       "{0, 4, 1} times    0.00000    0.87040    0.80000\n",
       "{0, 3, 2} times    0.00000    0.78400    0.96000\n",
       "{0, 2, 3} times    0.00000    0.64000    0.99200\n",
       "{0, 1, 4} times    0.00000    0.40000    0.99840\n",
       "{0, 0, 5} times    0.00000    0.00000    0.99968"
      ]
     },
     "metadata": {},
     "output_type": "display_data"
    },
    {
     "name": "stdout",
     "output_type": "stream",
     "text": [
      "\n"
     ]
    },
    {
     "data": {
      "application/vnd.jupyter.widget-view+json": {
       "model_id": "a8dacd66094444e697f3cda8642381f2",
       "version_major": 2,
       "version_minor": 0
      },
      "text/plain": [
       "IntProgress(value=1, max=2023, min=1)"
      ]
     },
     "metadata": {},
     "output_type": "display_data"
    },
    {
     "name": "stdout",
     "output_type": "stream",
     "text": [
      "Value of the game is 0.48954.\n",
      "\n",
      "Optimal strategies (only non-zero values!):\n",
      "\n",
      "Pairs of optimal strategies #1:\n"
     ]
    },
    {
     "data": {
      "text/html": [
       "<div>\n",
       "<style scoped>\n",
       "    .dataframe tbody tr th:only-of-type {\n",
       "        vertical-align: middle;\n",
       "    }\n",
       "\n",
       "    .dataframe tbody tr th {\n",
       "        vertical-align: top;\n",
       "    }\n",
       "\n",
       "    .dataframe thead th {\n",
       "        text-align: right;\n",
       "    }\n",
       "</style>\n",
       "<table border=\"1\" class=\"dataframe\">\n",
       "  <thead>\n",
       "    <tr style=\"text-align: right;\">\n",
       "      <th></th>\n",
       "      <th>{4, 1, 0}</th>\n",
       "      <th>{3, 2, 0}</th>\n",
       "      <th>{3, 1, 1}</th>\n",
       "    </tr>\n",
       "  </thead>\n",
       "  <tbody>\n",
       "    <tr>\n",
       "      <th>x</th>\n",
       "      <td>0.01501</td>\n",
       "      <td>0.37307</td>\n",
       "      <td>0.61192</td>\n",
       "    </tr>\n",
       "  </tbody>\n",
       "</table>\n",
       "</div>"
      ],
      "text/plain": [
       "   {4, 1, 0}  {3, 2, 0}  {3, 1, 1}\n",
       "x    0.01501    0.37307    0.61192"
      ]
     },
     "metadata": {},
     "output_type": "display_data"
    },
    {
     "data": {
      "text/html": [
       "<div>\n",
       "<style scoped>\n",
       "    .dataframe tbody tr th:only-of-type {\n",
       "        vertical-align: middle;\n",
       "    }\n",
       "\n",
       "    .dataframe tbody tr th {\n",
       "        vertical-align: top;\n",
       "    }\n",
       "\n",
       "    .dataframe thead th {\n",
       "        text-align: right;\n",
       "    }\n",
       "</style>\n",
       "<table border=\"1\" class=\"dataframe\">\n",
       "  <thead>\n",
       "    <tr style=\"text-align: right;\">\n",
       "      <th></th>\n",
       "      <th>1st</th>\n",
       "      <th>2nd</th>\n",
       "      <th>3rd</th>\n",
       "    </tr>\n",
       "  </thead>\n",
       "  <tbody>\n",
       "    <tr>\n",
       "      <th>y</th>\n",
       "      <td>0.64322</td>\n",
       "      <td>0.27444</td>\n",
       "      <td>0.08233</td>\n",
       "    </tr>\n",
       "  </tbody>\n",
       "</table>\n",
       "</div>"
      ],
      "text/plain": [
       "       1st      2nd      3rd\n",
       "y  0.64322  0.27444  0.08233"
      ]
     },
     "metadata": {},
     "output_type": "display_data"
    }
   ],
   "source": [
    "try:\n",
    "    X, searchings = get_game_matrix(n, m, p)\n",
    "    rows = ['{' + ', '.join(str(e) for e in x) + '}' for x in searchings]\n",
    "    columns = [ordinal(x) for x in range(1, X.shape[1] + 1)]\n",
    "    print_game_matrix(X, [x + \" times\" for x in rows], [y + \" cells\" for y in columns])\n",
    "    value, strategies = find_equilibrium(X)\n",
    "    print(f\"Value of the game is {round(value, 5)}.\")\n",
    "    print()\n",
    "    print(\"Optimal strategies (only non-zero values!):\")\n",
    "    print()\n",
    "    counter = 0\n",
    "    for s in strategies:\n",
    "        counter += 1\n",
    "        print(f\"Pairs of optimal strategies #{counter}:\")\n",
    "        print_optimal_strategies(s[0], s[1], rows, columns)\n",
    "except ValueError as e:\n",
    "    print(f\"Error! {e}\")"
   ]
  },
  {
   "cell_type": "code",
   "execution_count": null,
   "id": "7c6176ad",
   "metadata": {},
   "outputs": [],
   "source": []
  }
 ],
 "metadata": {
  "kernelspec": {
   "display_name": "Python 3 (ipykernel)",
   "language": "python",
   "name": "python3"
  },
  "language_info": {
   "codemirror_mode": {
    "name": "ipython",
    "version": 3
   },
   "file_extension": ".py",
   "mimetype": "text/x-python",
   "name": "python",
   "nbconvert_exporter": "python",
   "pygments_lexer": "ipython3",
   "version": "3.8.12"
  }
 },
 "nbformat": 4,
 "nbformat_minor": 5
}
